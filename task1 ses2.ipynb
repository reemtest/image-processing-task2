{
 "cells": [
  {
   "cell_type": "code",
   "execution_count": 4,
   "id": "57cb78a8-a437-4a28-9dfe-a78fab0b9e05",
   "metadata": {},
   "outputs": [],
   "source": [
    "import numpy as np\n",
    "import cv2\n",
    "cap=cv2.VideoCapture('./downloads/video.mp4')\n",
    "while True:\n",
    " ret,frame=cap.read()\n",
    " width=int(cap.get(3))\n",
    " height=int(cap.get(4))\n",
    " hsv=cv2.cvtColor(frame,cv2.COLOR_BGR2HSV)\n",
    " lower_blue=np.array([90,50,50])\n",
    " upper_blue=np.array([130,255,255])\n",
    " mask=cv2.inRange(hsv,lower_blue,upper_blue)\n",
    " result=cv2.bitwise_and(frame,frame,mask=mask)\n",
    " cv2.imshow('frame',result)\n",
    " if cv2.waitKey(25) & 0xFF == ord('q'):\n",
    "            break\n",
    "cap.release()\n",
    "cv2.destroyAllWindows()\n",
    " "
   ]
  }
 ],
 "metadata": {
  "kernelspec": {
   "display_name": "Python 3 (ipykernel)",
   "language": "python",
   "name": "python3"
  },
  "language_info": {
   "codemirror_mode": {
    "name": "ipython",
    "version": 3
   },
   "file_extension": ".py",
   "mimetype": "text/x-python",
   "name": "python",
   "nbconvert_exporter": "python",
   "pygments_lexer": "ipython3",
   "version": "3.11.5"
  }
 },
 "nbformat": 4,
 "nbformat_minor": 5
}
