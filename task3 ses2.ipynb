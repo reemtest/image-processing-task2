{
 "cells": [
  {
   "cell_type": "code",
   "execution_count": 11,
   "id": "91e952b1-1366-4828-a4e7-4ec8ac64b143",
   "metadata": {},
   "outputs": [],
   "source": [
    "import numpy as np\n",
    "import cv2\n",
    "\n",
    "def click_event(event, x, y, flags, param):\n",
    "    if event == cv2.EVENT_LBUTTONDOWN:\n",
    "        hsv = cv2.cvtColor(img, cv2.COLOR_BGR2HSV)\n",
    "        hsv_pixel = hsv[y, x]\n",
    "        hue = hsv_pixel[0]\n",
    "        lower_range = np.array([hue-10 , 50, 50])\n",
    "        upper_range = np.array([hue+10 , 255, 255])\n",
    "        mask = cv2.inRange(hsv, lower_range, upper_range)\n",
    "        result = cv2.bitwise_and(img, img, mask=mask)\n",
    "        cv2.imshow('result', result)\n",
    "\n",
    "img = cv2.imread('./downloads/baboon.jpg')\n",
    "cv2.imshow('image', img)\n",
    "\n",
    "cv2.setMouseCallback('image', click_event)\n",
    "cv2.waitKey(0)\n",
    "cv2.destroyAllWindows()"
   ]
  }
 ],
 "metadata": {
  "kernelspec": {
   "display_name": "Python 3 (ipykernel)",
   "language": "python",
   "name": "python3"
  },
  "language_info": {
   "codemirror_mode": {
    "name": "ipython",
    "version": 3
   },
   "file_extension": ".py",
   "mimetype": "text/x-python",
   "name": "python",
   "nbconvert_exporter": "python",
   "pygments_lexer": "ipython3",
   "version": "3.11.5"
  }
 },
 "nbformat": 4,
 "nbformat_minor": 5
}
